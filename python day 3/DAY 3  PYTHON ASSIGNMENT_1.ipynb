{
 "cells": [
  {
   "cell_type": "code",
   "execution_count": null,
   "metadata": {},
   "outputs": [],
   "source": [
    "altitude= int(input(\"What is the current Altitude? \"))\n",
    "print (altitude)\n",
    "if (altitude<=1000):\n",
    "      print (\"LAND THE PLANE\")\n",
    "elif(altitude<=5000 and altitude>1000):\n",
    "        print (\"BRING DOWN TO 1000\")\n",
    "elif(altitude>5000):\n",
    "            print(\"TURN AROUND\")"
   ]
  },
  {
   "cell_type": "code",
   "execution_count": null,
   "metadata": {},
   "outputs": [],
   "source": []
  }
 ],
 "metadata": {
  "kernelspec": {
   "display_name": "Python 3",
   "language": "python",
   "name": "python3"
  },
  "language_info": {
   "codemirror_mode": {
    "name": "ipython",
    "version": 3
   },
   "file_extension": ".py",
   "mimetype": "text/x-python",
   "name": "python",
   "nbconvert_exporter": "python",
   "pygments_lexer": "ipython3",
   "version": "3.8.3"
  }
 },
 "nbformat": 4,
 "nbformat_minor": 4
}
